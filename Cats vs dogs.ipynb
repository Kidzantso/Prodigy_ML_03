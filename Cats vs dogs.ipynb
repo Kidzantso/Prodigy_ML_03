{
 "cells": [
  {
   "cell_type": "code",
   "execution_count": null,
   "metadata": {
    "vscode": {
     "languageId": "plaintext"
    }
   },
   "outputs": [],
   "source": [
    "import os\n",
    "import numpy as np\n",
    "import cv2\n",
    "from sklearn.preprocessing import StandardScaler\n",
    "from sklearn.svm import SVC\n",
    "from sklearn.metrics import accuracy_score\n",
    "from sklearn.utils import shuffle\n",
    "\n",
    "# Helper function to load and preprocess images\n",
    "def load_images_from_directory(directory, label, image_size=(32, 32)):\n",
    "    data = []\n",
    "    labels = []\n",
    "    for file in os.listdir(directory):\n",
    "        file_path = os.path.join(directory, file)\n",
    "        if os.path.isfile(file_path):\n",
    "            image = cv2.imread(file_path, cv2.IMREAD_GRAYSCALE)\n",
    "            image = cv2.resize(image, image_size)\n",
    "            data.append(image.flatten())\n",
    "            labels.append(label)\n",
    "    return np.array(data), np.array(labels)\n",
    "\n",
    "# Load and preprocess data\n",
    "def preprocess_data():\n",
    "    # Load training data\n",
    "    train_cats, train_cats_labels = load_images_from_directory('train/cats', 0)\n",
    "    train_dogs, train_dogs_labels = load_images_from_directory('train/dogs', 1)\n",
    "    \n",
    "    X_train = np.vstack((train_cats, train_dogs))\n",
    "    y_train = np.hstack((train_cats_labels, train_dogs_labels))\n",
    "    \n",
    "    # Load test data\n",
    "    test_cats, test_cats_labels = load_images_from_directory('test/cats', 0)\n",
    "    test_dogs, test_dogs_labels = load_images_from_directory('test/dogs', 1)\n",
    "    \n",
    "    X_test = np.vstack((test_cats, test_dogs))\n",
    "    y_test = np.hstack((test_cats_labels, test_dogs_labels))\n",
    "    \n",
    "    # Shuffle and scale the data\n",
    "    X_train, y_train = shuffle(X_train, y_train, random_state=42)\n",
    "    scaler = StandardScaler()\n",
    "    X_train = scaler.fit_transform(X_train)\n",
    "    X_test = scaler.transform(X_test)\n",
    "    \n",
    "    return X_train, y_train, X_test, y_test\n",
    "\n",
    "# Load data\n",
    "X_train, y_train, X_test, y_test = preprocess_data()\n"
   ]
  },
  {
   "cell_type": "code",
   "execution_count": null,
   "metadata": {
    "vscode": {
     "languageId": "plaintext"
    }
   },
   "outputs": [],
   "source": [
    "from sklearn.model_selection import GridSearchCV\n",
    "\n",
    "param_grid = {'C': [0.1, 1, 10], 'kernel': ['linear', 'rbf'], 'gamma': ['scale', 'auto']}\n",
    "grid = GridSearchCV(SVC(max_iter=5000), param_grid, cv=3, verbose=3)\n",
    "grid.fit(X_train, y_train)\n",
    "\n",
    "print(f\"Best Parameters: {grid.best_params_}\")\n",
    "best_model = grid.best_estimator_\n"
   ]
  },
  {
   "cell_type": "code",
   "execution_count": null,
   "metadata": {
    "vscode": {
     "languageId": "plaintext"
    }
   },
   "outputs": [],
   "source": [
    "# Train SVM\n",
    "print(\"Training optimized SVM model...\")\n",
    "svm = SVC(kernel='rbf', max_iter=50000, verbose=True,gamma='auto',C=1) \n",
    "svm.fit(X_train, y_train)"
   ]
  },
  {
   "cell_type": "code",
   "execution_count": null,
   "metadata": {
    "vscode": {
     "languageId": "plaintext"
    }
   },
   "outputs": [],
   "source": [
    "# Evaluate on test data\n",
    "y_test_pred = svm.predict(X_test)\n",
    "test_accuracy = accuracy_score(y_test, y_test_pred)\n",
    "print(f\"Test Accuracy: {test_accuracy:.2f}\")"
   ]
  }
 ],
 "metadata": {
  "language_info": {
   "name": "python"
  }
 },
 "nbformat": 4,
 "nbformat_minor": 2
}
